{
 "cells": [
  {
   "cell_type": "code",
   "execution_count": null,
   "id": "8d8ea667",
   "metadata": {},
   "outputs": [],
   "source": []
  }
 ],
 "metadata": {
  "kernelspec": {
   "display_name": "Python 3.8.1 64-bit",
   "language": "python",
   "name": "python3"
  },
  "language_info": {
   "codemirror_mode": {
    "name": "ipython",
    "version": 3
   },
   "file_extension": ".py",
   "mimetype": "text/x-python",
   "name": "python",
   "nbconvert_exporter": "python",
   "pygments_lexer": "ipython3",
   "version": "3.8.1"
  },
  "vscode": {
   "interpreter": {
    "hash": "5d3cc72fb9f22d31b32575002f09026aa707aae77b9b452d6afbe95de7565079"
   }
  }
 },
 "nbformat": 4,
 "nbformat_minor": 5
}
